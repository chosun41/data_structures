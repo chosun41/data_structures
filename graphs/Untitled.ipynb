{
 "cells": [
  {
   "cell_type": "code",
   "execution_count": 1,
   "metadata": {},
   "outputs": [
    {
     "name": "stdout",
     "output_type": "stream",
     "text": [
      "['A', 'B', 'S', 'C', 'D', 'E', 'H', 'G', 'F']\n"
     ]
    }
   ],
   "source": [
    "graph1 = {\n",
    "    'A' : ['B','S'],\n",
    "    'B' : ['A'],\n",
    "    'C' : ['D','E','F','S'],\n",
    "    'D' : ['C'],\n",
    "    'E' : ['C','H'],\n",
    "    'F' : ['C','G'],\n",
    "    'G' : ['F','S'],\n",
    "    'H' : ['E','G'],\n",
    "    'S' : ['A','C','G']\n",
    "}\n",
    " \n",
    "def dfs(graph, node, visited):\n",
    "    if node not in visited:\n",
    "        visited.append(node)\n",
    "        for k in graph[node]:\n",
    "            dfs(graph,k, visited)\n",
    "    return visited\n",
    " \n",
    "visited = dfs(graph1,'A', [])\n",
    "print(visited)"
   ]
  },
  {
   "cell_type": "code",
   "execution_count": 3,
   "metadata": {},
   "outputs": [
    {
     "name": "stdout",
     "output_type": "stream",
     "text": [
      "0\n",
      "1\n",
      "2\n",
      "3\n",
      "4\n",
      "5\n",
      "6\n",
      "7\n"
     ]
    },
    {
     "data": {
      "text/plain": [
       "[2, 1, 0, 4, 3, 7, 6, 5]"
      ]
     },
     "execution_count": 3,
     "metadata": {},
     "output_type": "execute_result"
    }
   ],
   "source": [
    "from collections import defaultdict \n",
    "\n",
    "class Graph: \n",
    "\n",
    "    def __init__(self): \n",
    "        self.graph = defaultdict(list) # Node: [adjacency nodes]\n",
    "        self.nodes = set()\n",
    "\n",
    "    def add_edge(self, u, v): \n",
    "        \"Directed edge from vertex u to vertex v\"\n",
    "        self.graph[u].append(v) \n",
    "        self.nodes.add(u)\n",
    "        self.nodes.add(v)\n",
    "\n",
    "    def mark_as_visited(self, v, visited, topological_ordering): \n",
    "        visited[v] = True\n",
    "\n",
    "        # Recur for all the vertices adjacent to this vertex \n",
    "        for current_vertex in self.graph[v]: \n",
    "            if visited[current_vertex] == False: \n",
    "                self.mark_as_visited(current_vertex, visited, topological_ordering) \n",
    "\n",
    "        topological_ordering.insert(0, v) \n",
    "\n",
    "    def topological_sort(self): \n",
    "\n",
    "        visited = [False]*len(self.nodes) # Mark all the vertices as not visited \n",
    "        topological_ordering = [] \n",
    "\n",
    "        # Sort starting from all vertices one by one \n",
    "        for i in range(len(self.nodes)): \n",
    "            if visited[i] == False: \n",
    "                self.mark_as_visited(i, visited, topological_ordering) \n",
    "\n",
    "        return topological_ordering\n",
    "    \n",
    "# Create a sample DAG\n",
    "g = Graph() \n",
    "g.add_edge(0, 3) \n",
    "g.add_edge(0, 4) \n",
    "g.add_edge(1, 3) \n",
    "g.add_edge(2, 4) \n",
    "g.add_edge(2, 7) \n",
    "g.add_edge(3, 5) \n",
    "g.add_edge(3, 6)\n",
    "g.add_edge(3, 7)\n",
    "g.add_edge(4, 6)\n",
    "\n",
    "# Double check that the algorithm is correct for that DAG\n",
    "g.topological_sort()"
   ]
  },
  {
   "cell_type": "code",
   "execution_count": 6,
   "metadata": {},
   "outputs": [
    {
     "name": "stdout",
     "output_type": "stream",
     "text": [
      "[0, 1, 2, 4, 3, 7, 6, 5]\n",
      "[1, 3, 2, 4, 5, 7, 6]\n"
     ]
    }
   ],
   "source": [
    "import heapq\n",
    "a=[2, 1, 0, 4, 3, 7, 6, 5]\n",
    "heapq.heapify(a)\n",
    "print(a)\n",
    "heapq.heappop(a)\n",
    "print(a)"
   ]
  }
 ],
 "metadata": {
  "kernelspec": {
   "display_name": "Python 3",
   "language": "python",
   "name": "python3"
  },
  "language_info": {
   "codemirror_mode": {
    "name": "ipython",
    "version": 3
   },
   "file_extension": ".py",
   "mimetype": "text/x-python",
   "name": "python",
   "nbconvert_exporter": "python",
   "pygments_lexer": "ipython3",
   "version": "3.7.4"
  }
 },
 "nbformat": 4,
 "nbformat_minor": 2
}
