{
 "cells": [
  {
   "cell_type": "code",
   "execution_count": 485,
   "source": [
    "def exist(board, word):\r\n",
    "    visited={}\r\n",
    "\r\n",
    "    for i in range(len(board)):\r\n",
    "        for j in range(len(board[0])):\r\n",
    "            if getWords(board,word,i,j,visited):\r\n",
    "                return True\r\n",
    "\r\n",
    "    return False\r\n",
    "            \r\n",
    "\r\n",
    "def getWords(board,word,i,j,visited,pos=0):\r\n",
    "    if pos==len(word):\r\n",
    "        return True\r\n",
    "    \r\n",
    "    if i<0 or i>=len(board) or j<0 or j>=len(board[0]) or visited.get((i,j)) or board[i][j]!=word[pos]:\r\n",
    "        return False\r\n",
    "\r\n",
    "    visited[(i,j)]=True\r\n",
    "    res = getWords(board,word,i-1,j,visited,pos+1) \\\r\n",
    "            or getWords(board,word,i+1,j,visited,pos+1) \\\r\n",
    "            or getWords(board,word,i,j-1,visited,pos+1) \\\r\n",
    "            or getWords(board,word,i,j+1,visited,pos+1)\r\n",
    "\r\n",
    "    visited[(i,j)]=False\r\n",
    "\r\n",
    "    return res\r\n",
    "\r\n",
    "\r\n",
    "\r\n",
    "if __name__=='__main__':\r\n",
    "    # time: O(N3^L) space: O(L) - n number of letters on board, l is length of word, 3 is directions\r\n",
    "    board = [[\"A\",\"B\",\"C\",\"E\"],\r\n",
    "             [\"S\",\"F\",\"C\",\"S\"],\r\n",
    "             [\"A\",\"D\",\"E\",\"E\"]]\r\n",
    "    word = \"ABCCED\"\r\n",
    "    print(exist(board,word))\r\n",
    "    board = [[\"A\",\"B\",\"C\",\"E\"],\r\n",
    "             [\"S\",\"F\",\"C\",\"S\"],\r\n",
    "             [\"A\",\"D\",\"E\",\"E\"]], \r\n",
    "    word = \"ABCB\"\r\n",
    "    print(exist(board,word))\r\n"
   ],
   "outputs": [
    {
     "output_type": "stream",
     "name": "stdout",
     "text": [
      "True\n",
      "False\n"
     ]
    }
   ],
   "metadata": {}
  },
  {
   "cell_type": "markdown",
   "source": [
    "# Round 1\r\n",
    "\r\n",
    "## queues - interleave, min_sliding_window\r\n",
    "## sorting - merge_klists\r\n",
    "## search - missing_num, kth smallest, k_closest\r\n",
    "## heaps - stream_median, meeting_room\r\n",
    "## graphs - account_merge, alien_dictionary2\r\n",
    "## arrays - next_permut, permutation, primes, prod_wo_self, rotate_matrix, spiral_order\r\n",
    "## recursion - n_queens, towers_of_hanoi, combinations, permutation, phone_letters, strobogrammatic2, pow\r\n",
    "## stacks - calculator1, calculator3, eval_expr, exclusive_time,max_water2, min_remove_par, spans, valid_paren_combos\r\n",
    "## string - bold_tag, dict_trie, num_to_str, operator, tries, valid_ip, valid_palindrome,look and say\r\n",
    "## linked_list - reverse_list_iterative, reorder_list, list_to_bst, cll_insert,ll_even,ordered_insert,remove_val,remove_duplicates_from_sorted_list,random_pointer\r\n",
    "## hashing - alien_dictionary, contig_array, find_anagrams, k_diff_pairs, longest_substrk, max_sub_eqk,min_window_substr,palindrome_pairs, sparse_mtx_multiply, contig_sum,top_k_freq\r\n",
    "## misc - divide, island, rearrange_k, shortest_dist, walls_and_gates, task_scheduler, tictactoe, word_break2, word_ladder, word_search,readn,lru, word_abbrev,sticker_word, range_sum, cut_ribbon,palindrome2\r\n",
    "## binary trees - max_sum_path2, largest_subtree, flatten_tree,str_2_tree,serialize_tree,serialize_bst,vertical_order, trim_bst, balanced_tree, boundary, diameter, lca_bst, lca_bt, insert_level,balance_bst,k_dist_tree,bst_iterator,bst_2_dll,balance_bst,binary_right_side,sum_root, eval_expression_tree, max_diff,print_ancestors,range_sum,same_tree\r\n",
    "\r\n",
    "# Round 2\r\n",
    "\r\n",
    "## queues - min_sliding_window\r\n",
    "## sorting -\r\n",
    "## search - missing_num\r\n",
    "## heaps - \r\n",
    "## graphs - account_merge\r\n",
    "## arrays - spiral_order,rotate_matrix,next_permut\r\n",
    "## recursion - combinations,permutations,phone_letters,strobogrammatic2\r\n",
    "## stacks - valid_paren_combos,calculator3\r\n",
    "## string - valid_palindrome,look_and_say,operator,bold_tag,valid_ip,dict_trie,tries\r\n",
    "## linked_list - reorder_list,list_to_bst,random_pointer\r\n",
    "## hashing - min_window_substr,max_sub_eqk\r\n",
    "## misc - word_break2,* word_ladder,word_search,word_abbrev,* sticker_word,palindrome2,*readn,lru,cut_ribbon,shortest dist,rearrange_k,island,range_sum\r\n",
    "## binary trees - * bst_2_dll,bst_iterator,* k_dist_tree,balance_bst,boundary,vertical_order,* serialize_bst,* serialize_tree,str_to_tree,* flatten_tree,* largest_subtree,print_ancestors,max_diff,sum_root,insert_level,lca_bst,lca_bt,diameter,balanced_tree,trim_bst,max_sum_path2\r\n",
    "\r\n",
    "# Round 3\r\n",
    "\r\n",
    "## queues -\r\n",
    "## sorting -\r\n",
    "## search - missing_num,kth smallest\r\n",
    "## heaps - \r\n",
    "## graphs - account_merge,alien_dictionary2\r\n",
    "## arrays - primes,permutation,delete_duplicates,rotate_matrix\r\n",
    "## recursion - permutations,combinations,phone_letters,strobogrammatic2\r\n",
    "## stacks - valid_paren_combos,calculator3   \r\n",
    "## string - operator,look_and_say,run_length_encoding,valid_palindrome,tries,dict_trie\r\n",
    "## linked_list - reverse_list_iterative,reorder_list,list_to_bst,cll_insert,ll_even,ordered_insert,remove_val,remove_duplicates_from_sorted_list,random_pointer\r\n",
    "## hashing - contig_array,contig_sum,max_sub_eqk,k_diff_pairs,find_anagrams,longest_substrk,min_window_substrk\r\n",
    "## misc - divide,island,rearrange_k,shortest_dist,walls_and_gates,task_scheduler,tictactoe,word_break2,word_ladder,*word_search,readn,lru,word_abbrev,sticker_word,range_sum,cut_ribbon,palindrome2,missing_range,toeplitz\r\n",
    "## binary trees - max_sum_path2,largest_subtree,flatten_tree,str_2_tree,serialize_tree,serialize_bst,vertical_order,trim_bst, balanced_tree,boundary,diameter,lca_bst,lca_bt,insert_level,balance_bst,k_dist_tree,bst_iterator,bst_2_dll,balance_bst,binary_right_side,sum_root,eval_expression_tree,max_diff,print_ancestors,range_sum,same_tree\r\n",
    "\r\n",
    "## do greedy and dynamic programming"
   ],
   "metadata": {}
  },
  {
   "cell_type": "code",
   "execution_count": 2,
   "source": [
    "def passwordStrength(password):\r\n",
    "    last = {chr(97 + i): -1 for i in range(26)}\r\n",
    "    ret = 0\r\n",
    "    for i,ch in enumerate(password):\r\n",
    "        left = i - last[ch]\r\n",
    "        right = len(password) - i\r\n",
    "        print(left,right,last)\r\n",
    "        ret += left * right\r\n",
    "        last[ch] = i\r\n",
    "        \r\n",
    "    return ret\r\n",
    "\r\n",
    "passwordStrength(\"test\")"
   ],
   "outputs": [
    {
     "output_type": "stream",
     "name": "stdout",
     "text": [
      "1 4 {'a': -1, 'b': -1, 'c': -1, 'd': -1, 'e': -1, 'f': -1, 'g': -1, 'h': -1, 'i': -1, 'j': -1, 'k': -1, 'l': -1, 'm': -1, 'n': -1, 'o': -1, 'p': -1, 'q': -1, 'r': -1, 's': -1, 't': -1, 'u': -1, 'v': -1, 'w': -1, 'x': -1, 'y': -1, 'z': -1}\n",
      "2 3 {'a': -1, 'b': -1, 'c': -1, 'd': -1, 'e': -1, 'f': -1, 'g': -1, 'h': -1, 'i': -1, 'j': -1, 'k': -1, 'l': -1, 'm': -1, 'n': -1, 'o': -1, 'p': -1, 'q': -1, 'r': -1, 's': -1, 't': 0, 'u': -1, 'v': -1, 'w': -1, 'x': -1, 'y': -1, 'z': -1}\n",
      "3 2 {'a': -1, 'b': -1, 'c': -1, 'd': -1, 'e': 1, 'f': -1, 'g': -1, 'h': -1, 'i': -1, 'j': -1, 'k': -1, 'l': -1, 'm': -1, 'n': -1, 'o': -1, 'p': -1, 'q': -1, 'r': -1, 's': -1, 't': 0, 'u': -1, 'v': -1, 'w': -1, 'x': -1, 'y': -1, 'z': -1}\n",
      "3 1 {'a': -1, 'b': -1, 'c': -1, 'd': -1, 'e': 1, 'f': -1, 'g': -1, 'h': -1, 'i': -1, 'j': -1, 'k': -1, 'l': -1, 'm': -1, 'n': -1, 'o': -1, 'p': -1, 'q': -1, 'r': -1, 's': 2, 't': 0, 'u': -1, 'v': -1, 'w': -1, 'x': -1, 'y': -1, 'z': -1}\n"
     ]
    },
    {
     "output_type": "execute_result",
     "data": {
      "text/plain": [
       "19"
      ]
     },
     "metadata": {},
     "execution_count": 2
    }
   ],
   "metadata": {}
  }
 ],
 "metadata": {
  "orig_nbformat": 4,
  "language_info": {
   "name": "python",
   "version": "3.7.4",
   "mimetype": "text/x-python",
   "codemirror_mode": {
    "name": "ipython",
    "version": 3
   },
   "pygments_lexer": "ipython3",
   "nbconvert_exporter": "python",
   "file_extension": ".py"
  },
  "kernelspec": {
   "name": "python3",
   "display_name": "Python 3.7.4 64-bit ('base': conda)"
  },
  "interpreter": {
   "hash": "a92b1244aa0ef1879e3f19e77fc1ce35bfcca2fee47b0dae4ce6efa98fd9494f"
  }
 },
 "nbformat": 4,
 "nbformat_minor": 2
}