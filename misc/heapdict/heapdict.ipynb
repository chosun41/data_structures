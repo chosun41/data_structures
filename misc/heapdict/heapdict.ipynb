{
 "cells": [
  {
   "cell_type": "code",
   "execution_count": 4,
   "metadata": {},
   "outputs": [
    {
     "name": "stdout",
     "output_type": "stream",
     "text": [
      "list of key:value pairs in h:\n",
      " [('g', 2), ('e', 1), ('k', 3), ('s', 4)]\n",
      "pair with lowest priority:\n",
      " ('e', 1)\n",
      "list of keys in h:\n",
      " ['g', 'e', 'k', 's']\n",
      "list of values in h:\n",
      " [2, 1, 3, 4]\n",
      "remove pair with lowest priority:\n",
      " ('e', 1)\n",
      "[('g', 2), ('k', 3), ('s', 4)]\n",
      "get value for key 5 in h:\n",
      " 2\n",
      "[]\n"
     ]
    }
   ],
   "source": [
    "import heapdict \n",
    "  \n",
    "h = heapdict.heapdict() \n",
    "  \n",
    "# Adding pairs into heapdict \n",
    "h['g']= 2\n",
    "h['e']= 1\n",
    "h['k']= 3\n",
    "h['s']= 4\n",
    "  \n",
    "print('list of key:value pairs in h:\\n',  \n",
    "      list(h.items())) \n",
    "print('pair with lowest priority:\\n', \n",
    "      h.peekitem()) \n",
    "print('list of keys in h:\\n', \n",
    "      list(h.keys())) \n",
    "print('list of values in h:\\n', \n",
    "      list(h.values())) \n",
    "print('remove pair with lowest priority:\\n', \n",
    "      h.popitem()) \n",
    "print(list(h.items())) \n",
    "print('get value for key 5 in h:\\n', \n",
    "      h.get('g', 'Not found')) \n",
    "  \n",
    "# clear heapdict h \n",
    "h.clear() \n",
    "print(list(h.items())) "
   ]
  }
 ],
 "metadata": {
  "kernelspec": {
   "display_name": "Python 3",
   "language": "python",
   "name": "python3"
  },
  "language_info": {
   "codemirror_mode": {
    "name": "ipython",
    "version": 3
   },
   "file_extension": ".py",
   "mimetype": "text/x-python",
   "name": "python",
   "nbconvert_exporter": "python",
   "pygments_lexer": "ipython3",
   "version": "3.7.4"
  }
 },
 "nbformat": 4,
 "nbformat_minor": 2
}
