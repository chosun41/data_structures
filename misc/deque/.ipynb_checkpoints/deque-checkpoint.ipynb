{
 "cells": [
  {
   "cell_type": "code",
   "execution_count": 1,
   "metadata": {},
   "outputs": [
    {
     "name": "stdout",
     "output_type": "stream",
     "text": [
      "The deque after appending at right is : \n",
      "deque([1, 2, 3, 4])\n",
      "The deque after appending at left is : \n",
      "deque([6, 1, 2, 3, 4])\n",
      "The deque after deleting from right is : \n",
      "deque([6, 1, 2, 3])\n",
      "The deque after deleting from left is : \n",
      "deque([1, 2, 3])\n"
     ]
    }
   ],
   "source": [
    "import collections \n",
    "  \n",
    "# initializing deque \n",
    "de = collections.deque([1,2,3]) \n",
    "  \n",
    "# using append() to insert element at right end  \n",
    "# inserts 4 at the end of deque \n",
    "de.append(4) \n",
    "  \n",
    "# printing modified deque \n",
    "print (\"The deque after appending at right is : \") \n",
    "print (de) \n",
    "  \n",
    "# using appendleft() to insert element at right end  \n",
    "# inserts 6 at the beginning of deque \n",
    "de.appendleft(6) \n",
    "  \n",
    "# printing modified deque \n",
    "print (\"The deque after appending at left is : \") \n",
    "print (de) \n",
    "  \n",
    "# using pop() to delete element from right end  \n",
    "# deletes 4 from the right end of deque \n",
    "de.pop() \n",
    "  \n",
    "# printing modified deque \n",
    "print (\"The deque after deleting from right is : \") \n",
    "print (de) \n",
    "  \n",
    "# using popleft() to delete element from left end  \n",
    "# deletes 6 from the left end of deque \n",
    "de.popleft() \n",
    "  \n",
    "# printing modified deque \n",
    "print (\"The deque after deleting from left is : \") \n",
    "print (de) "
   ]
  }
 ],
 "metadata": {
  "kernelspec": {
   "display_name": "Python 3",
   "language": "python",
   "name": "python3"
  },
  "language_info": {
   "codemirror_mode": {
    "name": "ipython",
    "version": 3
   },
   "file_extension": ".py",
   "mimetype": "text/x-python",
   "name": "python",
   "nbconvert_exporter": "python",
   "pygments_lexer": "ipython3",
   "version": "3.7.4"
  }
 },
 "nbformat": 4,
 "nbformat_minor": 2
}
