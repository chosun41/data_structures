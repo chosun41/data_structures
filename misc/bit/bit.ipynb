{
 "cells": [
  {
   "cell_type": "code",
   "execution_count": 10,
   "metadata": {},
   "outputs": [
    {
     "name": "stdout",
     "output_type": "stream",
     "text": [
      "111100\n",
      "\n",
      "11011"
     ]
    }
   ],
   "source": [
    "# bit is base 2 from right to left 0 to onwards\n",
    "\n",
    "# 0 is written as \"0\"\n",
    "# 1 is written as \"1\"\n",
    "# 2 is written as \"10\"\n",
    "# 3 is \"11\"\n",
    "# 4 is \"100\"\n",
    "# 5 is \"101\"\n",
    "# .\n",
    "# .\n",
    "# 1029 is \"10000000101\" == 2**10 + 2**2 + 2**0 == 1024 + 4 + 1\n",
    "\n",
    "def decimalToBinary(n):  \n",
    "  \n",
    "    if(n > 1):  \n",
    "        # divide with integral result  \n",
    "        # (discard remainder)  \n",
    "        decimalToBinary(n//2)  \n",
    "  \n",
    "      \n",
    "    print(n%2, end='')\n",
    "\n",
    "decimalToBinary(60) \n",
    "print(\"\\n\")\n",
    "decimalToBinary(13)"
   ]
  },
  {
   "cell_type": "code",
   "execution_count": 9,
   "metadata": {},
   "outputs": [
    {
     "name": "stdout",
     "output_type": "stream",
     "text": [
      "Line 1 - Value of c is  12\n",
      "Line 2 - Value of c is  61\n",
      "Line 3 - Value of c is  49\n",
      "Line 4 - Value of c is  -61\n",
      "Line 5 - Value of c is  240\n",
      "Line 6 - Value of c is  15\n"
     ]
    }
   ],
   "source": [
    "# https://wiki.python.org/moin/BitwiseOperators\n",
    "\n",
    "a = 60            # 60 = 0011 1100 \n",
    "b = 13            # 13 = 0000 1101 \n",
    "\n",
    "# x & y\n",
    "# bitwise and - each bit 1 if x and y bit is 1, else 0.\n",
    "c = a & b;        # 12 = 0000 1100\n",
    "print(\"Line 1 - Value of c is \", c)\n",
    "\n",
    "# x | y\n",
    "# bitwise or - each bit 0 if x and y bit is 0, else 1.\n",
    "c = a | b;        # 61 = 0011 1101 \n",
    "print(\"Line 2 - Value of c is \", c)\n",
    "\n",
    "# x ^ y\n",
    "# bitwise exclusive or - if y bit is 0, then x bit, if y bit is 1, then x complement bit\n",
    "\n",
    "#   a - 00111100\n",
    "# ~ a - 11000011\n",
    "#   b - 00001101\n",
    "c = a ^ b;        # 49 = 0011 0001\n",
    "print(\"Line 3 - Value of c is \", c)\n",
    "\n",
    "# ~ x\n",
    "# complement of x - switch all the 0s and 1s \n",
    "# This is the same as -x - 1.\n",
    "c = ~a;           # -61 = 1100 0011\n",
    "print(\"Line 4 - Value of c is \", c)\n",
    "\n",
    "# x << y\n",
    "# shifted x left by y places (new bits on the right-hand-side are zeros).\n",
    "# This is the same as multiplying x by 2**y.\n",
    "c = a << 2;       # 240 = 1111 0000\n",
    "print(\"Line 5 - Value of c is \", c)\n",
    "\n",
    "# x >> y\n",
    "# shit x right by y places\n",
    "# This is the same as //'ing x by 2**y.\n",
    "c = a >> 2;       # 15 = 0000 1111\n",
    "print(\"Line 6 - Value of c is \", c)"
   ]
  }
 ],
 "metadata": {
  "kernelspec": {
   "display_name": "Python 3",
   "language": "python",
   "name": "python3"
  },
  "language_info": {
   "codemirror_mode": {
    "name": "ipython",
    "version": 3
   },
   "file_extension": ".py",
   "mimetype": "text/x-python",
   "name": "python",
   "nbconvert_exporter": "python",
   "pygments_lexer": "ipython3",
   "version": "3.7.4"
  }
 },
 "nbformat": 4,
 "nbformat_minor": 2
}
