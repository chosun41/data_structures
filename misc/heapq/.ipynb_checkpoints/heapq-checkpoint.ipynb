{
 "cells": [
  {
   "cell_type": "code",
   "execution_count": 3,
   "metadata": {},
   "outputs": [
    {
     "name": "stdout",
     "output_type": "stream",
     "text": [
      "The created heap is : [1, 3, 9, 7, 5]\n",
      "The modified heap after push is : [1, 3, 4, 7, 5, 9]\n",
      "The popped and smallest element is : 1\n",
      "[3, 5, 4, 7, 9]\n"
     ]
    }
   ],
   "source": [
    "import heapq \n",
    "  \n",
    "# initializing list \n",
    "li = [5, 7, 9, 1, 3] \n",
    "  \n",
    "# using heapify to convert list into heap \n",
    "heapq.heapify(li) \n",
    "  \n",
    "# printing created heap \n",
    "print (\"The created heap is : \",end=\"\") \n",
    "print (li) \n",
    "  \n",
    "# using heappush() to push elements into heap \n",
    "# pushes 4 \n",
    "heapq.heappush(li,4) \n",
    "  \n",
    "# printing modified heap \n",
    "print (\"The modified heap after push is : \",end=\"\") \n",
    "print (li) \n",
    "  \n",
    "# using heappop() to pop smallest element \n",
    "print (\"The popped and smallest element is : \",end=\"\") \n",
    "print (heapq.heappop(li)) \n",
    "print(li)"
   ]
  },
  {
   "cell_type": "code",
   "execution_count": 10,
   "metadata": {},
   "outputs": [
    {
     "name": "stdout",
     "output_type": "stream",
     "text": [
      "[3, 4, 9, 5, 7]\n",
      "The popped item using heappushpop() is : 2\n",
      "[3, 4, 9, 5, 7]\n",
      "[3, 4, 9, 5, 7]\n",
      "The popped item using heapreplace() is : 3\n",
      "[2, 4, 9, 5, 7]\n"
     ]
    }
   ],
   "source": [
    "import heapq \n",
    "  \n",
    "# initializing list 1 \n",
    "li1 = [5, 7, 9, 4, 3] \n",
    "  \n",
    "# initializing list 2 \n",
    "li2 = [5, 7, 9, 4, 3] \n",
    "  \n",
    "# using heapify() to convert list into heap \n",
    "heapq.heapify(li1) \n",
    "heapq.heapify(li2) \n",
    "  \n",
    "# using heappushpop() to push and then pop\n",
    "# pops 2 \n",
    "print(li1)\n",
    "print (\"The popped item using heappushpop() is : \",end=\"\") \n",
    "print (heapq.heappushpop(li1, 2)) \n",
    "print(li1)\n",
    "  \n",
    "# using heapreplace() to pop and then push\n",
    "# pops 3 \n",
    "print(li2)\n",
    "print (\"The popped item using heapreplace() is : \",end=\"\") \n",
    "print (heapq.heapreplace(li2, 2)) \n",
    "print(li2)"
   ]
  },
  {
   "cell_type": "code",
   "execution_count": 12,
   "metadata": {},
   "outputs": [
    {
     "name": "stdout",
     "output_type": "stream",
     "text": [
      "[1, 3, 5, 4, 6, 9, 8, 10, 7]\n",
      "The 3 largest numbers in list are : [10, 9, 8]\n",
      "The 3 smallest numbers in list are : [1, 3, 4]\n"
     ]
    }
   ],
   "source": [
    "import heapq \n",
    "  \n",
    "# initializing list  \n",
    "li1 = [6, 7, 9, 4, 3, 5, 8, 10, 1] \n",
    "  \n",
    "# using heapify() to convert list into heap \n",
    "heapq.heapify(li1) \n",
    "print(li1)\n",
    "  \n",
    "# using nlargest to print 3 largest numbers \n",
    "# prints 10, 9 and 8 \n",
    "print(\"The 3 largest numbers in list are : \",end=\"\") \n",
    "print(heapq.nlargest(3, li1)) \n",
    "  \n",
    "# using nsmallest to print 3 smallest numbers \n",
    "# prints 1, 3 and 4 \n",
    "print(\"The 3 smallest numbers in list are : \",end=\"\") \n",
    "print(heapq.nsmallest(3, li1)) "
   ]
  }
 ],
 "metadata": {
  "kernelspec": {
   "display_name": "Python 3",
   "language": "python",
   "name": "python3"
  },
  "language_info": {
   "codemirror_mode": {
    "name": "ipython",
    "version": 3
   },
   "file_extension": ".py",
   "mimetype": "text/x-python",
   "name": "python",
   "nbconvert_exporter": "python",
   "pygments_lexer": "ipython3",
   "version": "3.7.4"
  }
 },
 "nbformat": 4,
 "nbformat_minor": 2
}
